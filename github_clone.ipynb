{
  "nbformat": 4,
  "nbformat_minor": 0,
  "metadata": {
    "colab": {
      "name": "github_clone.ipynb",
      "provenance": [],
      "collapsed_sections": [],
      "mount_file_id": "1kV2w2qoApYYUd8f2vRewGJqNoAi46U6A",
      "authorship_tag": "ABX9TyM5bRIOPSpQuTwJ8G526yeo",
      "include_colab_link": true
    },
    "kernelspec": {
      "name": "python3",
      "display_name": "Python 3"
    },
    "language_info": {
      "name": "python"
    }
  },
  "cells": [
    {
      "cell_type": "markdown",
      "metadata": {
        "id": "view-in-github",
        "colab_type": "text"
      },
      "source": [
        "<a href=\"https://colab.research.google.com/github/thodsapon58/test/blob/main/github_clone.ipynb\" target=\"_parent\"><img src=\"https://colab.research.google.com/assets/colab-badge.svg\" alt=\"Open In Colab\"/></a>"
      ]
    },
    {
      "cell_type": "code",
      "metadata": {
        "colab": {
          "base_uri": "https://localhost:8080/"
        },
        "id": "YsjyQsQ3D1su",
        "outputId": "681b3c47-8490-484e-9d4c-187f35d9ef03"
      },
      "source": [
        "!git clone https://github.com/thodsapon58/test\n",
        "#example git clone\n",
        "#https://stackoverflow.com/questions/48350226/methods-for-using-git-with-google-colab"
      ],
      "execution_count": 4,
      "outputs": [
        {
          "output_type": "stream",
          "name": "stdout",
          "text": [
            "fatal: destination path 'test' already exists and is not an empty directory.\n"
          ]
        }
      ]
    },
    {
      "cell_type": "code",
      "metadata": {
        "id": "nDrkymc1OdNH"
      },
      "source": [
        "#วิธี copy git เข้ามาใส่ใน folder\n",
        "#https://stackoverflow.com/questions/52681405/how-can-i-import-custom-modules-from-a-github-repository-in-google-colab\n",
        "import sys\n",
        "sys.path.insert(0,'/content/test')"
      ],
      "execution_count": 5,
      "outputs": []
    },
    {
      "cell_type": "code",
      "metadata": {
        "id": "Q-pNeNC-NQRX"
      },
      "source": [
        "from helloworld import fnc1\n",
        "#ถึงมันจะอยู่ใน Folder test แต่ก็ทำงานได้เลย"
      ],
      "execution_count": 17,
      "outputs": []
    },
    {
      "cell_type": "code",
      "metadata": {
        "colab": {
          "base_uri": "https://localhost:8080/"
        },
        "id": "XQ4xVyW4NMD5",
        "outputId": "8bd58d11-e2eb-4bb2-ee85-26f3771189ce"
      },
      "source": [
        "fnc1()"
      ],
      "execution_count": 18,
      "outputs": [
        {
          "output_type": "stream",
          "name": "stdout",
          "text": [
            "hello\n"
          ]
        }
      ]
    }
  ]
}